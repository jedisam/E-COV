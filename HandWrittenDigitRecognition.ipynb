{
  "nbformat": 4,
  "nbformat_minor": 0,
  "metadata": {
    "colab": {
      "name": "HandWrittenDigitRecognition.ipynb",
      "provenance": [],
      "authorship_tag": "ABX9TyMznevVgiWB2hRcaBhQHRec",
      "include_colab_link": true
    },
    "kernelspec": {
      "display_name": "Python 3",
      "name": "python3"
    },
    "language_info": {
      "name": "python"
    }
  },
  "cells": [
    {
      "cell_type": "markdown",
      "metadata": {
        "id": "view-in-github",
        "colab_type": "text"
      },
      "source": [
        "<a href=\"https://colab.research.google.com/github/jedisam/E-COV/blob/main/HandWrittenDigitRecognition.ipynb\" target=\"_parent\"><img src=\"https://colab.research.google.com/assets/colab-badge.svg\" alt=\"Open In Colab\"/></a>"
      ]
    },
    {
      "cell_type": "code",
      "metadata": {
        "id": "3UV3raBn4f9x"
      },
      "source": [
        "import tensorflow as tf\n",
        "from tensorflow import keras\n",
        "import matplotlib.pyplot as plt\n",
        "import numpy as np"
      ],
      "execution_count": null,
      "outputs": []
    },
    {
      "cell_type": "code",
      "metadata": {
        "id": "m5dideFZ5f3i"
      },
      "source": [
        "(x_train, y_train), (x_test, y_test) = keras.datasets.mnist.load_data()"
      ],
      "execution_count": null,
      "outputs": []
    },
    {
      "cell_type": "code",
      "metadata": {
        "colab": {
          "base_uri": "https://localhost:8080/"
        },
        "id": "1QinQnjW6Ca8",
        "outputId": "f32099d1-acc9-4b25-ba88-27bd9fb2af6e"
      },
      "source": [
        "x_train.shape"
      ],
      "execution_count": null,
      "outputs": [
        {
          "output_type": "execute_result",
          "data": {
            "text/plain": [
              "(60000, 28, 28)"
            ]
          },
          "metadata": {
            "tags": []
          },
          "execution_count": 6
        }
      ]
    },
    {
      "cell_type": "code",
      "metadata": {
        "colab": {
          "base_uri": "https://localhost:8080/",
          "height": 293
        },
        "id": "si25-EOu6KG9",
        "outputId": "f2ee4572-4577-46c3-e1b3-32f40b2930ba"
      },
      "source": [
        "plt.matshow(x_train[0])"
      ],
      "execution_count": null,
      "outputs": [
        {
          "output_type": "execute_result",
          "data": {
            "text/plain": [
              "<matplotlib.image.AxesImage at 0x7faf9ad03a90>"
            ]
          },
          "metadata": {
            "tags": []
          },
          "execution_count": 7
        },
        {
          "output_type": "display_data",
          "data": {
            "image/png": "[encoded data removed]",
            "text/plain": [
              "<Figure size 288x288 with 1 Axes>"
            ]
          },
          "metadata": {
            "tags": []
          }
        }
      ]
    },
    {
      "cell_type": "code",
      "metadata": {
        "id": "aCxYwoTO6lF0"
      },
      "source": [
        "x_train_flatten = x_train.reshape(len(x_train), 784)\n",
        "x_test_flatten = x_test.reshape(len(x_test), 784)"
      ],
      "execution_count": null,
      "outputs": []
    },
    {
      "cell_type": "code",
      "metadata": {
        "colab": {
          "base_uri": "https://localhost:8080/"
        },
        "id": "gYvXQ6Zs7AIO",
        "outputId": "aab43f10-afee-4af6-904e-125141d63a41"
      },
      "source": [
        "y_train[0]"
      ],
      "execution_count": null,
      "outputs": [
        {
          "output_type": "execute_result",
          "data": {
            "text/plain": [
              "5"
            ]
          },
          "metadata": {
            "tags": []
          },
          "execution_count": 15
        }
      ]
    },
    {
      "cell_type": "code",
      "metadata": {
        "colab": {
          "base_uri": "https://localhost:8080/"
        },
        "id": "9L6woPy973jd",
        "outputId": "053a1107-8b47-4c08-a2bd-d12d7675b077"
      },
      "source": [
        "x_train_flatten[0].shape"
      ],
      "execution_count": null,
      "outputs": [
        {
          "output_type": "execute_result",
          "data": {
            "text/plain": [
              "(784,)"
            ]
          },
          "metadata": {
            "tags": []
          },
          "execution_count": 19
        }
      ]
    },
    {
      "cell_type": "code",
      "metadata": {
        "id": "L-K9ybDR7jol"
      },
      "source": [
        "from tensorflow.keras import Sequential # import Sequential from tensorflow.keras\n",
        "from tensorflow.keras.layers import Dense # import Dense from tensorflow.keras.layers\n",
        "from numpy.random import seed # seed helps you to fix the randomness in the neural network.\n",
        "import tensorflow"
      ],
      "execution_count": null,
      "outputs": []
    },
    {
      "cell_type": "code",
      "metadata": {
        "id": "KmeSpUZJ7uo5"
      },
      "source": [
        "model = Sequential()\n",
        "model.add(Dense(512, activation='relu', input_shape=(x_train_flatten[0].shape)))\n",
        "model.add(Dense(256, activation='relu'))\n",
        "model.add(Dense(64, activation='relu'))\n",
        "model.add(Dense(10, activation='sigmoid'))"
      ],
      "execution_count": null,
      "outputs": []
    },
    {
      "cell_type": "code",
      "metadata": {
        "id": "QDKChIFC8FxZ"
      },
      "source": [
        "# import Adam optimizer\n",
        "from tensorflow.keras.optimizers import Adam\n",
        "optimizer = Adam(0.0001) # 0.001 is the learning rate"
      ],
      "execution_count": null,
      "outputs": []
    },
    {
      "cell_type": "code",
      "metadata": {
        "id": "XqIA_ENQ8Kfz"
      },
      "source": [
        "model.compile(loss='sparse_categorical_crossentropy',optimizer=optimizer, metrics=['accuracy']) # compile the model\n"
      ],
      "execution_count": null,
      "outputs": []
    },
    {
      "cell_type": "code",
      "metadata": {
        "colab": {
          "background_save": true,
          "base_uri": "https://localhost:8080/"
        },
        "id": "NVmxDeJR8OyF",
        "outputId": "47d68fe4-854d-4135-f1eb-1ce3cdd2bc69"
      },
      "source": [
        "seed_value = 42\n",
        "seed(seed_value) # If you build the model with given parameters, set_random_seed will help you produce the same result on multiple execution\n",
        "\n",
        "\n",
        "# Recommended by Keras -------------------------------------------------------------------------------------\n",
        "# 1. Set `PYTHONHASHSEED` environment variable at a fixed value\n",
        "import os\n",
        "os.environ['PYTHONHASHSEED']=str(seed_value)\n",
        "\n",
        "# 2. Set `python` built-in pseudo-random generator at a fixed value\n",
        "import random\n",
        "random.seed(seed_value)\n",
        "\n",
        "# 3. Set `numpy` pseudo-random generator at a fixed value\n",
        "import numpy as np\n",
        "np.random.seed(seed_value)\n",
        "# Recommended by Keras -------------------------------------------------------------------------------------\n",
        "\n",
        "\n",
        "# 4. Set the `tensorflow` pseudo-random generator at a fixed value\n",
        "tensorflow.random.set_seed(seed_value)\n",
        "history = model.fit(x_train_flatten, y_train, epochs=300, validation_split=0.2,  batch_size=200, verbose = 1) # fit the model"
      ],
      "execution_count": null,
      "outputs": [
        {
          "output_type": "stream",
          "text": [
            "Epoch 1/300\n",
            "240/240 [==============================] - 5s 17ms/step - loss: 5.6679 - accuracy: 0.7088 - val_loss: 1.2516 - val_accuracy: 0.8313\n",
            "Epoch 2/300\n",
            "240/240 [==============================] - 4s 17ms/step - loss: 0.9375 - accuracy: 0.8496 - val_loss: 0.7324 - val_accuracy: 0.8612\n",
            "Epoch 3/300\n",
            "240/240 [==============================] - 4s 17ms/step - loss: 0.5383 - accuracy: 0.8901 - val_loss: 0.5783 - val_accuracy: 0.8862\n",
            "Epoch 4/300\n",
            "240/240 [==============================] - 4s 17ms/step - loss: 0.3698 - accuracy: 0.9164 - val_loss: 0.4917 - val_accuracy: 0.9032\n",
            "Epoch 5/300\n",
            "240/240 [==============================] - 4s 17ms/step - loss: 0.2659 - accuracy: 0.9358 - val_loss: 0.4602 - val_accuracy: 0.9112\n",
            "Epoch 6/300\n",
            "240/240 [==============================] - 4s 17ms/step - loss: 0.1962 - accuracy: 0.9495 - val_loss: 0.4303 - val_accuracy: 0.9166\n",
            "Epoch 7/300\n",
            "240/240 [==============================] - 4s 17ms/step - loss: 0.1464 - accuracy: 0.9604 - val_loss: 0.4207 - val_accuracy: 0.9202\n",
            "Epoch 8/300\n",
            "240/240 [==============================] - 4s 17ms/step - loss: 0.1135 - accuracy: 0.9679 - val_loss: 0.3923 - val_accuracy: 0.9263\n",
            "Epoch 9/300\n",
            "240/240 [==============================] - 4s 17ms/step - loss: 0.0866 - accuracy: 0.9745 - val_loss: 0.4017 - val_accuracy: 0.9293\n",
            "Epoch 10/300\n",
            "240/240 [==============================] - 4s 17ms/step - loss: 0.0673 - accuracy: 0.9800 - val_loss: 0.3988 - val_accuracy: 0.9283\n",
            "Epoch 11/300\n",
            "240/240 [==============================] - 4s 17ms/step - loss: 0.0541 - accuracy: 0.9834 - val_loss: 0.3827 - val_accuracy: 0.9340\n",
            "Epoch 12/300\n",
            "240/240 [==============================] - 4s 17ms/step - loss: 0.0420 - accuracy: 0.9869 - val_loss: 0.3920 - val_accuracy: 0.9351\n",
            "Epoch 13/300\n",
            "240/240 [==============================] - 4s 17ms/step - loss: 0.0331 - accuracy: 0.9898 - val_loss: 0.3870 - val_accuracy: 0.9369\n",
            "Epoch 14/300\n",
            "240/240 [==============================] - 4s 17ms/step - loss: 0.0266 - accuracy: 0.9919 - val_loss: 0.3902 - val_accuracy: 0.9388\n",
            "Epoch 15/300\n",
            "240/240 [==============================] - 4s 17ms/step - loss: 0.0210 - accuracy: 0.9935 - val_loss: 0.3804 - val_accuracy: 0.9407\n",
            "Epoch 16/300\n",
            "240/240 [==============================] - 4s 17ms/step - loss: 0.0166 - accuracy: 0.9952 - val_loss: 0.3965 - val_accuracy: 0.9411\n",
            "Epoch 17/300\n",
            "240/240 [==============================] - 4s 17ms/step - loss: 0.0175 - accuracy: 0.9946 - val_loss: 0.3987 - val_accuracy: 0.9392\n",
            "Epoch 18/300\n",
            "240/240 [==============================] - 4s 17ms/step - loss: 0.0316 - accuracy: 0.9899 - val_loss: 0.3866 - val_accuracy: 0.9426\n",
            "Epoch 19/300\n",
            "240/240 [==============================] - 4s 17ms/step - loss: 0.0336 - accuracy: 0.9884 - val_loss: 0.3756 - val_accuracy: 0.9433\n",
            "Epoch 20/300\n",
            "240/240 [==============================] - 4s 17ms/step - loss: 0.0339 - accuracy: 0.9887 - val_loss: 0.3716 - val_accuracy: 0.9428\n",
            "Epoch 21/300\n",
            "240/240 [==============================] - 4s 17ms/step - loss: 0.0361 - accuracy: 0.9885 - val_loss: 0.3818 - val_accuracy: 0.9466\n",
            "Epoch 22/300\n",
            "240/240 [==============================] - 4s 17ms/step - loss: 0.0276 - accuracy: 0.9910 - val_loss: 0.3601 - val_accuracy: 0.9488\n",
            "Epoch 23/300\n",
            "240/240 [==============================] - 4s 17ms/step - loss: 0.0253 - accuracy: 0.9918 - val_loss: 0.3741 - val_accuracy: 0.9495\n",
            "Epoch 24/300\n",
            "240/240 [==============================] - 4s 17ms/step - loss: 0.0220 - accuracy: 0.9929 - val_loss: 0.3419 - val_accuracy: 0.9513\n",
            "Epoch 25/300\n",
            "240/240 [==============================] - 4s 17ms/step - loss: 0.0155 - accuracy: 0.9951 - val_loss: 0.3539 - val_accuracy: 0.9518\n",
            "Epoch 26/300\n",
            "240/240 [==============================] - 4s 17ms/step - loss: 0.0146 - accuracy: 0.9952 - val_loss: 0.3712 - val_accuracy: 0.9497\n",
            "Epoch 27/300\n",
            "240/240 [==============================] - 4s 17ms/step - loss: 0.0139 - accuracy: 0.9956 - val_loss: 0.3500 - val_accuracy: 0.9538\n",
            "Epoch 28/300\n",
            "240/240 [==============================] - 4s 17ms/step - loss: 0.0160 - accuracy: 0.9945 - val_loss: 0.3655 - val_accuracy: 0.9539\n",
            "Epoch 29/300\n",
            "240/240 [==============================] - 4s 17ms/step - loss: 0.0200 - accuracy: 0.9940 - val_loss: 0.3455 - val_accuracy: 0.9514\n",
            "Epoch 30/300\n",
            "240/240 [==============================] - 4s 17ms/step - loss: 0.0146 - accuracy: 0.9956 - val_loss: 0.3619 - val_accuracy: 0.9538\n",
            "Epoch 31/300\n",
            "240/240 [==============================] - 4s 17ms/step - loss: 0.0100 - accuracy: 0.9966 - val_loss: 0.3680 - val_accuracy: 0.9543\n",
            "Epoch 32/300\n",
            "240/240 [==============================] - 4s 17ms/step - loss: 0.0139 - accuracy: 0.9960 - val_loss: 0.4012 - val_accuracy: 0.9518\n",
            "Epoch 33/300\n",
            "240/240 [==============================] - 4s 17ms/step - loss: 0.0171 - accuracy: 0.9950 - val_loss: 0.3639 - val_accuracy: 0.9559\n",
            "Epoch 34/300\n",
            "240/240 [==============================] - 4s 17ms/step - loss: 0.0148 - accuracy: 0.9952 - val_loss: 0.3597 - val_accuracy: 0.9573\n",
            "Epoch 35/300\n",
            "240/240 [==============================] - 4s 17ms/step - loss: 0.0183 - accuracy: 0.9948 - val_loss: 0.3535 - val_accuracy: 0.9582\n",
            "Epoch 36/300\n",
            "240/240 [==============================] - 4s 17ms/step - loss: 0.0113 - accuracy: 0.9965 - val_loss: 0.4073 - val_accuracy: 0.9559\n",
            "Epoch 37/300\n",
            "240/240 [==============================] - 4s 17ms/step - loss: 0.0143 - accuracy: 0.9959 - val_loss: 0.3608 - val_accuracy: 0.9617\n",
            "Epoch 38/300\n",
            "240/240 [==============================] - 4s 17ms/step - loss: 0.0066 - accuracy: 0.9978 - val_loss: 0.3420 - val_accuracy: 0.9613\n",
            "Epoch 39/300\n",
            "240/240 [==============================] - 4s 17ms/step - loss: 0.0076 - accuracy: 0.9976 - val_loss: 0.3359 - val_accuracy: 0.9619\n",
            "Epoch 40/300\n",
            "240/240 [==============================] - 4s 17ms/step - loss: 0.0104 - accuracy: 0.9967 - val_loss: 0.3568 - val_accuracy: 0.9610\n",
            "Epoch 41/300\n",
            "240/240 [==============================] - 4s 17ms/step - loss: 0.0134 - accuracy: 0.9963 - val_loss: 0.3769 - val_accuracy: 0.9581\n",
            "Epoch 42/300\n",
            "240/240 [==============================] - 4s 17ms/step - loss: 0.0169 - accuracy: 0.9953 - val_loss: 0.3931 - val_accuracy: 0.9565\n",
            "Epoch 43/300\n",
            "240/240 [==============================] - 4s 17ms/step - loss: 0.0157 - accuracy: 0.9956 - val_loss: 0.3533 - val_accuracy: 0.9611\n",
            "Epoch 44/300\n",
            "240/240 [==============================] - 4s 17ms/step - loss: 0.0079 - accuracy: 0.9976 - val_loss: 0.3515 - val_accuracy: 0.9630\n",
            "Epoch 45/300\n",
            "240/240 [==============================] - 4s 17ms/step - loss: 0.0072 - accuracy: 0.9979 - val_loss: 0.3801 - val_accuracy: 0.9605\n",
            "Epoch 46/300\n",
            "240/240 [==============================] - 4s 17ms/step - loss: 0.0144 - accuracy: 0.9962 - val_loss: 0.3598 - val_accuracy: 0.9623\n",
            "Epoch 47/300\n",
            "240/240 [==============================] - 4s 17ms/step - loss: 0.0066 - accuracy: 0.9982 - val_loss: 0.3723 - val_accuracy: 0.9612\n",
            "Epoch 48/300\n",
            "240/240 [==============================] - 4s 17ms/step - loss: 0.0033 - accuracy: 0.9989 - val_loss: 0.3438 - val_accuracy: 0.9647\n",
            "Epoch 49/300\n",
            "240/240 [==============================] - 4s 17ms/step - loss: 0.0030 - accuracy: 0.9992 - val_loss: 0.3633 - val_accuracy: 0.9647\n",
            "Epoch 50/300\n",
            "240/240 [==============================] - 4s 17ms/step - loss: 0.0113 - accuracy: 0.9967 - val_loss: 0.3736 - val_accuracy: 0.9613\n",
            "Epoch 51/300\n",
            "240/240 [==============================] - 4s 17ms/step - loss: 0.0142 - accuracy: 0.9961 - val_loss: 0.3663 - val_accuracy: 0.9654\n",
            "Epoch 52/300\n",
            "240/240 [==============================] - 4s 17ms/step - loss: 0.0134 - accuracy: 0.9964 - val_loss: 0.3699 - val_accuracy: 0.9622\n",
            "Epoch 53/300\n",
            "240/240 [==============================] - 5s 23ms/step - loss: 0.0059 - accuracy: 0.9983 - val_loss: 0.3472 - val_accuracy: 0.9643\n",
            "Epoch 54/300\n",
            "240/240 [==============================] - 4s 17ms/step - loss: 0.0015 - accuracy: 0.9994 - val_loss: 0.3328 - val_accuracy: 0.9662\n",
            "Epoch 55/300\n",
            "240/240 [==============================] - 4s 17ms/step - loss: 0.0053 - accuracy: 0.9985 - val_loss: 0.3956 - val_accuracy: 0.9640\n",
            "Epoch 56/300\n",
            "240/240 [==============================] - 4s 17ms/step - loss: 0.0067 - accuracy: 0.9983 - val_loss: 0.3863 - val_accuracy: 0.9613\n",
            "Epoch 57/300\n",
            "240/240 [==============================] - 4s 17ms/step - loss: 0.0189 - accuracy: 0.9955 - val_loss: 0.4047 - val_accuracy: 0.9578\n",
            "Epoch 58/300\n",
            "240/240 [==============================] - 4s 17ms/step - loss: 0.0142 - accuracy: 0.9964 - val_loss: 0.3682 - val_accuracy: 0.9644\n",
            "Epoch 59/300\n",
            "240/240 [==============================] - 4s 17ms/step - loss: 0.0064 - accuracy: 0.9980 - val_loss: 0.3629 - val_accuracy: 0.9660\n",
            "Epoch 60/300\n",
            "240/240 [==============================] - 4s 17ms/step - loss: 0.0064 - accuracy: 0.9983 - val_loss: 0.3374 - val_accuracy: 0.9692\n",
            "Epoch 61/300\n",
            "240/240 [==============================] - 4s 17ms/step - loss: 0.0032 - accuracy: 0.9990 - val_loss: 0.3282 - val_accuracy: 0.9690\n",
            "Epoch 62/300\n",
            "240/240 [==============================] - 4s 17ms/step - loss: 0.0017 - accuracy: 0.9995 - val_loss: 0.3427 - val_accuracy: 0.9681\n",
            "Epoch 63/300\n",
            "240/240 [==============================] - 4s 17ms/step - loss: 0.0079 - accuracy: 0.9979 - val_loss: 0.3490 - val_accuracy: 0.9647\n",
            "Epoch 64/300\n",
            "240/240 [==============================] - 4s 17ms/step - loss: 0.0093 - accuracy: 0.9978 - val_loss: 0.3221 - val_accuracy: 0.9682\n",
            "Epoch 65/300\n",
            "240/240 [==============================] - 4s 17ms/step - loss: 0.0097 - accuracy: 0.9975 - val_loss: 0.3394 - val_accuracy: 0.9682\n",
            "Epoch 66/300\n",
            "240/240 [==============================] - 4s 17ms/step - loss: 0.0062 - accuracy: 0.9982 - val_loss: 0.3357 - val_accuracy: 0.9683\n",
            "Epoch 67/300\n",
            "240/240 [==============================] - 4s 17ms/step - loss: 0.0089 - accuracy: 0.9979 - val_loss: 0.3344 - val_accuracy: 0.9702\n",
            "Epoch 68/300\n",
            "240/240 [==============================] - 4s 17ms/step - loss: 0.0084 - accuracy: 0.9981 - val_loss: 0.3530 - val_accuracy: 0.9683\n",
            "Epoch 69/300\n",
            "240/240 [==============================] - 4s 17ms/step - loss: 0.0039 - accuracy: 0.9988 - val_loss: 0.3800 - val_accuracy: 0.9678\n",
            "Epoch 70/300\n",
            "240/240 [==============================] - 4s 17ms/step - loss: 0.0037 - accuracy: 0.9989 - val_loss: 0.3725 - val_accuracy: 0.9679\n",
            "Epoch 71/300\n",
            "240/240 [==============================] - 4s 17ms/step - loss: 0.0031 - accuracy: 0.9991 - val_loss: 0.3851 - val_accuracy: 0.9670\n",
            "Epoch 72/300\n",
            "240/240 [==============================] - 4s 17ms/step - loss: 0.0034 - accuracy: 0.9990 - val_loss: 0.3559 - val_accuracy: 0.9688\n",
            "Epoch 73/300\n",
            "240/240 [==============================] - 4s 17ms/step - loss: 0.0059 - accuracy: 0.9984 - val_loss: 0.3749 - val_accuracy: 0.9703\n",
            "Epoch 74/300\n",
            "240/240 [==============================] - 4s 17ms/step - loss: 0.0112 - accuracy: 0.9971 - val_loss: 0.3324 - val_accuracy: 0.9672\n",
            "Epoch 75/300\n",
            "240/240 [==============================] - 4s 17ms/step - loss: 0.0085 - accuracy: 0.9977 - val_loss: 0.3442 - val_accuracy: 0.9689\n",
            "Epoch 76/300\n",
            "240/240 [==============================] - 4s 17ms/step - loss: 0.0051 - accuracy: 0.9987 - val_loss: 0.3229 - val_accuracy: 0.9707\n",
            "Epoch 77/300\n",
            "240/240 [==============================] - 4s 17ms/step - loss: 0.0031 - accuracy: 0.9991 - val_loss: 0.3355 - val_accuracy: 0.9693\n",
            "Epoch 78/300\n",
            "240/240 [==============================] - 4s 17ms/step - loss: 0.0042 - accuracy: 0.9988 - val_loss: 0.3493 - val_accuracy: 0.9690\n",
            "Epoch 79/300\n",
            "240/240 [==============================] - 4s 17ms/step - loss: 0.0071 - accuracy: 0.9984 - val_loss: 0.3532 - val_accuracy: 0.9687\n",
            "Epoch 80/300\n",
            "240/240 [==============================] - 4s 17ms/step - loss: 0.0069 - accuracy: 0.9985 - val_loss: 0.3893 - val_accuracy: 0.9656\n",
            "Epoch 81/300\n",
            "240/240 [==============================] - 4s 17ms/step - loss: 0.0086 - accuracy: 0.9979 - val_loss: 0.3478 - val_accuracy: 0.9683\n",
            "Epoch 82/300\n",
            "240/240 [==============================] - 4s 17ms/step - loss: 0.0028 - accuracy: 0.9991 - val_loss: 0.3616 - val_accuracy: 0.9697\n",
            "Epoch 83/300\n",
            "240/240 [==============================] - 4s 17ms/step - loss: 0.0061 - accuracy: 0.9982 - val_loss: 0.3557 - val_accuracy: 0.9682\n",
            "Epoch 84/300\n",
            "240/240 [==============================] - 4s 17ms/step - loss: 0.0050 - accuracy: 0.9986 - val_loss: 0.3347 - val_accuracy: 0.9680\n",
            "Epoch 85/300\n",
            "240/240 [==============================] - 4s 17ms/step - loss: 0.0081 - accuracy: 0.9983 - val_loss: 0.3492 - val_accuracy: 0.9692\n",
            "Epoch 86/300\n",
            "240/240 [==============================] - 4s 17ms/step - loss: 0.0037 - accuracy: 0.9990 - val_loss: 0.3748 - val_accuracy: 0.9690\n",
            "Epoch 87/300\n",
            "240/240 [==============================] - 4s 17ms/step - loss: 0.0040 - accuracy: 0.9990 - val_loss: 0.3524 - val_accuracy: 0.9709\n",
            "Epoch 88/300\n",
            "240/240 [==============================] - 4s 17ms/step - loss: 0.0050 - accuracy: 0.9987 - val_loss: 0.3753 - val_accuracy: 0.9677\n",
            "Epoch 89/300\n",
            "240/240 [==============================] - 4s 17ms/step - loss: 0.0055 - accuracy: 0.9987 - val_loss: 0.3538 - val_accuracy: 0.9682\n",
            "Epoch 90/300\n",
            "240/240 [==============================] - 4s 17ms/step - loss: 0.0038 - accuracy: 0.9990 - val_loss: 0.3748 - val_accuracy: 0.9688\n",
            "Epoch 91/300\n",
            "240/240 [==============================] - 4s 17ms/step - loss: 0.0055 - accuracy: 0.9985 - val_loss: 0.3788 - val_accuracy: 0.9670\n",
            "Epoch 92/300\n",
            "240/240 [==============================] - 4s 17ms/step - loss: 0.0072 - accuracy: 0.9982 - val_loss: 0.3765 - val_accuracy: 0.9707\n",
            "Epoch 93/300\n",
            "240/240 [==============================] - 4s 17ms/step - loss: 0.0080 - accuracy: 0.9981 - val_loss: 0.3644 - val_accuracy: 0.9701\n",
            "Epoch 94/300\n",
            "240/240 [==============================] - 4s 17ms/step - loss: 0.0060 - accuracy: 0.9987 - val_loss: 0.3803 - val_accuracy: 0.9686\n",
            "Epoch 95/300\n",
            "240/240 [==============================] - 4s 17ms/step - loss: 0.0061 - accuracy: 0.9984 - val_loss: 0.3556 - val_accuracy: 0.9701\n",
            "Epoch 96/300\n",
            "240/240 [==============================] - 4s 17ms/step - loss: 0.0049 - accuracy: 0.9989 - val_loss: 0.3368 - val_accuracy: 0.9706\n",
            "Epoch 97/300\n",
            "240/240 [==============================] - 4s 17ms/step - loss: 0.0011 - accuracy: 0.9997 - val_loss: 0.3661 - val_accuracy: 0.9709\n",
            "Epoch 98/300\n",
            "240/240 [==============================] - 4s 17ms/step - loss: 0.0014 - accuracy: 0.9996 - val_loss: 0.3504 - val_accuracy: 0.9699\n",
            "Epoch 99/300\n",
            "240/240 [==============================] - 4s 17ms/step - loss: 0.0024 - accuracy: 0.9994 - val_loss: 0.3871 - val_accuracy: 0.9682\n",
            "Epoch 100/300\n",
            "240/240 [==============================] - 4s 17ms/step - loss: 0.0037 - accuracy: 0.9988 - val_loss: 0.3765 - val_accuracy: 0.9700\n",
            "Epoch 101/300\n",
            "240/240 [==============================] - 4s 17ms/step - loss: 0.0096 - accuracy: 0.9977 - val_loss: 0.4004 - val_accuracy: 0.9678\n",
            "Epoch 102/300\n",
            "240/240 [==============================] - 4s 17ms/step - loss: 0.0059 - accuracy: 0.9985 - val_loss: 0.3690 - val_accuracy: 0.9711\n",
            "Epoch 103/300\n",
            "240/240 [==============================] - 4s 17ms/step - loss: 0.0054 - accuracy: 0.9988 - val_loss: 0.3603 - val_accuracy: 0.9706\n",
            "Epoch 104/300\n",
            "240/240 [==============================] - 4s 17ms/step - loss: 0.0047 - accuracy: 0.9989 - val_loss: 0.3836 - val_accuracy: 0.9712\n",
            "Epoch 105/300\n",
            "240/240 [==============================] - 4s 17ms/step - loss: 0.0020 - accuracy: 0.9994 - val_loss: 0.3869 - val_accuracy: 0.9701\n",
            "Epoch 106/300\n",
            "240/240 [==============================] - 4s 17ms/step - loss: 0.0072 - accuracy: 0.9983 - val_loss: 0.3914 - val_accuracy: 0.9689\n",
            "Epoch 107/300\n",
            "240/240 [==============================] - 4s 17ms/step - loss: 0.0049 - accuracy: 0.9987 - val_loss: 0.3876 - val_accuracy: 0.9708\n",
            "Epoch 108/300\n",
            "240/240 [==============================] - 4s 17ms/step - loss: 0.0072 - accuracy: 0.9985 - val_loss: 0.4009 - val_accuracy: 0.9686\n",
            "Epoch 109/300\n",
            "240/240 [==============================] - 4s 17ms/step - loss: 0.0029 - accuracy: 0.9991 - val_loss: 0.3780 - val_accuracy: 0.9713\n",
            "Epoch 110/300\n",
            "240/240 [==============================] - 4s 17ms/step - loss: 3.4276e-04 - accuracy: 0.9999 - val_loss: 0.3712 - val_accuracy: 0.9727\n",
            "Epoch 111/300\n",
            "240/240 [==============================] - 4s 17ms/step - loss: 1.2227e-04 - accuracy: 1.0000 - val_loss: 0.3677 - val_accuracy: 0.9733\n",
            "Epoch 112/300\n",
            "240/240 [==============================] - 4s 17ms/step - loss: 5.9728e-04 - accuracy: 0.9999 - val_loss: 0.3656 - val_accuracy: 0.9714\n",
            "Epoch 113/300\n",
            "240/240 [==============================] - 4s 17ms/step - loss: 0.0010 - accuracy: 0.9997 - val_loss: 0.3777 - val_accuracy: 0.9705\n",
            "Epoch 114/300\n",
            "240/240 [==============================] - 4s 17ms/step - loss: 0.0063 - accuracy: 0.9988 - val_loss: 0.4627 - val_accuracy: 0.9634\n",
            "Epoch 115/300\n",
            "240/240 [==============================] - 4s 17ms/step - loss: 0.0189 - accuracy: 0.9961 - val_loss: 0.4267 - val_accuracy: 0.9671\n",
            "Epoch 116/300\n",
            "240/240 [==============================] - 4s 17ms/step - loss: 0.0090 - accuracy: 0.9981 - val_loss: 0.3578 - val_accuracy: 0.9735\n",
            "Epoch 117/300\n",
            "240/240 [==============================] - 4s 17ms/step - loss: 7.8590e-04 - accuracy: 0.9998 - val_loss: 0.3490 - val_accuracy: 0.9753\n",
            "Epoch 118/300\n",
            "240/240 [==============================] - 4s 17ms/step - loss: 4.9507e-04 - accuracy: 0.9999 - val_loss: 0.3554 - val_accuracy: 0.9752\n",
            "Epoch 119/300\n",
            "240/240 [==============================] - 4s 17ms/step - loss: 6.3235e-05 - accuracy: 1.0000 - val_loss: 0.3469 - val_accuracy: 0.9758\n",
            "Epoch 120/300\n",
            "240/240 [==============================] - 4s 17ms/step - loss: 1.3535e-05 - accuracy: 1.0000 - val_loss: 0.3446 - val_accuracy: 0.9765\n",
            "Epoch 121/300\n",
            "240/240 [==============================] - 4s 17ms/step - loss: 7.9618e-06 - accuracy: 1.0000 - val_loss: 0.3451 - val_accuracy: 0.9765\n",
            "Epoch 122/300\n",
            "240/240 [==============================] - 4s 17ms/step - loss: 6.5956e-06 - accuracy: 1.0000 - val_loss: 0.3456 - val_accuracy: 0.9766\n",
            "Epoch 123/300\n",
            "240/240 [==============================] - 4s 17ms/step - loss: 5.6342e-06 - accuracy: 1.0000 - val_loss: 0.3460 - val_accuracy: 0.9765\n",
            "Epoch 124/300\n",
            "240/240 [==============================] - 4s 17ms/step - loss: 4.9175e-06 - accuracy: 1.0000 - val_loss: 0.3464 - val_accuracy: 0.9763\n",
            "Epoch 125/300\n",
            "240/240 [==============================] - 4s 17ms/step - loss: 4.3346e-06 - accuracy: 1.0000 - val_loss: 0.3468 - val_accuracy: 0.9762\n",
            "Epoch 126/300\n",
            "240/240 [==============================] - 4s 17ms/step - loss: 3.8422e-06 - accuracy: 1.0000 - val_loss: 0.3472 - val_accuracy: 0.9764\n",
            "Epoch 127/300\n",
            "240/240 [==============================] - 4s 17ms/step - loss: 3.4309e-06 - accuracy: 1.0000 - val_loss: 0.3476 - val_accuracy: 0.9764\n",
            "Epoch 128/300\n",
            "240/240 [==============================] - 5s 21ms/step - loss: 3.0883e-06 - accuracy: 1.0000 - val_loss: 0.3480 - val_accuracy: 0.9765\n",
            "Epoch 129/300\n",
            "240/240 [==============================] - 4s 17ms/step - loss: 2.7873e-06 - accuracy: 1.0000 - val_loss: 0.3485 - val_accuracy: 0.9767\n",
            "Epoch 130/300\n",
            "240/240 [==============================] - 4s 17ms/step - loss: 2.5267e-06 - accuracy: 1.0000 - val_loss: 0.3489 - val_accuracy: 0.9767\n",
            "Epoch 131/300\n",
            "240/240 [==============================] - 4s 17ms/step - loss: 2.2926e-06 - accuracy: 1.0000 - val_loss: 0.3493 - val_accuracy: 0.9768\n",
            "Epoch 132/300\n",
            "240/240 [==============================] - 4s 17ms/step - loss: 2.0866e-06 - accuracy: 1.0000 - val_loss: 0.3498 - val_accuracy: 0.9767\n",
            "Epoch 133/300\n",
            "240/240 [==============================] - 4s 17ms/step - loss: 1.8782e-06 - accuracy: 1.0000 - val_loss: 0.3501 - val_accuracy: 0.9766\n",
            "Epoch 134/300\n",
            "240/240 [==============================] - 4s 17ms/step - loss: 1.7082e-06 - accuracy: 1.0000 - val_loss: 0.3505 - val_accuracy: 0.9765\n",
            "Epoch 135/300\n",
            "240/240 [==============================] - 4s 17ms/step - loss: 1.5608e-06 - accuracy: 1.0000 - val_loss: 0.3509 - val_accuracy: 0.9763\n",
            "Epoch 136/300\n",
            "240/240 [==============================] - 4s 17ms/step - loss: 1.4268e-06 - accuracy: 1.0000 - val_loss: 0.3513 - val_accuracy: 0.9764\n",
            "Epoch 137/300\n",
            "240/240 [==============================] - 4s 17ms/step - loss: 1.3072e-06 - accuracy: 1.0000 - val_loss: 0.3518 - val_accuracy: 0.9764\n",
            "Epoch 138/300\n",
            "240/240 [==============================] - 4s 17ms/step - loss: 1.1973e-06 - accuracy: 1.0000 - val_loss: 0.3522 - val_accuracy: 0.9765\n",
            "Epoch 139/300\n",
            "240/240 [==============================] - 4s 17ms/step - loss: 1.0981e-06 - accuracy: 1.0000 - val_loss: 0.3527 - val_accuracy: 0.9765\n",
            "Epoch 140/300\n",
            "240/240 [==============================] - 4s 17ms/step - loss: 1.0071e-06 - accuracy: 1.0000 - val_loss: 0.3531 - val_accuracy: 0.9765\n",
            "Epoch 141/300\n",
            "240/240 [==============================] - 4s 17ms/step - loss: 9.2217e-07 - accuracy: 1.0000 - val_loss: 0.3537 - val_accuracy: 0.9764\n",
            "Epoch 142/300\n",
            "240/240 [==============================] - 4s 17ms/step - loss: 8.4374e-07 - accuracy: 1.0000 - val_loss: 0.3541 - val_accuracy: 0.9765\n",
            "Epoch 143/300\n",
            "240/240 [==============================] - 4s 17ms/step - loss: 7.7145e-07 - accuracy: 1.0000 - val_loss: 0.3546 - val_accuracy: 0.9765\n",
            "Epoch 144/300\n",
            "240/240 [==============================] - 4s 17ms/step - loss: 7.0522e-07 - accuracy: 1.0000 - val_loss: 0.3551 - val_accuracy: 0.9765\n",
            "Epoch 145/300\n",
            "240/240 [==============================] - 4s 17ms/step - loss: 6.4571e-07 - accuracy: 1.0000 - val_loss: 0.3556 - val_accuracy: 0.9764\n",
            "Epoch 146/300\n",
            "240/240 [==============================] - 4s 17ms/step - loss: 5.9126e-07 - accuracy: 1.0000 - val_loss: 0.3563 - val_accuracy: 0.9765\n",
            "Epoch 147/300\n",
            "240/240 [==============================] - 4s 17ms/step - loss: 5.4159e-07 - accuracy: 1.0000 - val_loss: 0.3568 - val_accuracy: 0.9765\n",
            "Epoch 148/300\n",
            "240/240 [==============================] - 4s 17ms/step - loss: 4.9573e-07 - accuracy: 1.0000 - val_loss: 0.3574 - val_accuracy: 0.9768\n",
            "Epoch 149/300\n",
            "240/240 [==============================] - 4s 17ms/step - loss: 4.5345e-07 - accuracy: 1.0000 - val_loss: 0.3579 - val_accuracy: 0.9768\n",
            "Epoch 150/300\n",
            "240/240 [==============================] - 4s 17ms/step - loss: 4.1514e-07 - accuracy: 1.0000 - val_loss: 0.3584 - val_accuracy: 0.9768\n",
            "Epoch 151/300\n",
            "240/240 [==============================] - 4s 17ms/step - loss: 3.7979e-07 - accuracy: 1.0000 - val_loss: 0.3590 - val_accuracy: 0.9768\n",
            "Epoch 152/300\n",
            "240/240 [==============================] - 4s 17ms/step - loss: 3.4643e-07 - accuracy: 1.0000 - val_loss: 0.3597 - val_accuracy: 0.9769\n",
            "Epoch 153/300\n",
            "240/240 [==============================] - 4s 17ms/step - loss: 3.1567e-07 - accuracy: 1.0000 - val_loss: 0.3603 - val_accuracy: 0.9768\n",
            "Epoch 154/300\n",
            "240/240 [==============================] - 4s 17ms/step - loss: 2.8840e-07 - accuracy: 1.0000 - val_loss: 0.3610 - val_accuracy: 0.9768\n",
            "Epoch 155/300\n",
            "240/240 [==============================] - 4s 17ms/step - loss: 2.6280e-07 - accuracy: 1.0000 - val_loss: 0.3616 - val_accuracy: 0.9768\n",
            "Epoch 156/300\n",
            "240/240 [==============================] - 4s 17ms/step - loss: 2.3992e-07 - accuracy: 1.0000 - val_loss: 0.3622 - val_accuracy: 0.9768\n",
            "Epoch 157/300\n",
            "240/240 [==============================] - 4s 17ms/step - loss: 2.1839e-07 - accuracy: 1.0000 - val_loss: 0.3630 - val_accuracy: 0.9768\n",
            "Epoch 158/300\n",
            "240/240 [==============================] - 4s 17ms/step - loss: 1.9880e-07 - accuracy: 1.0000 - val_loss: 0.3636 - val_accuracy: 0.9768\n",
            "Epoch 159/300\n",
            "240/240 [==============================] - 4s 17ms/step - loss: 1.8111e-07 - accuracy: 1.0000 - val_loss: 0.3643 - val_accuracy: 0.9768\n",
            "Epoch 160/300\n",
            "240/240 [==============================] - 4s 17ms/step - loss: 1.6347e-07 - accuracy: 1.0000 - val_loss: 0.3650 - val_accuracy: 0.9767\n",
            "Epoch 161/300\n",
            "240/240 [==============================] - 4s 17ms/step - loss: 1.4799e-07 - accuracy: 1.0000 - val_loss: 0.3660 - val_accuracy: 0.9766\n",
            "Epoch 162/300\n",
            "240/240 [==============================] - 4s 17ms/step - loss: 1.3354e-07 - accuracy: 1.0000 - val_loss: 0.3666 - val_accuracy: 0.9765\n",
            "Epoch 163/300\n",
            "240/240 [==============================] - 4s 17ms/step - loss: 1.2067e-07 - accuracy: 1.0000 - val_loss: 0.3674 - val_accuracy: 0.9765\n",
            "Epoch 164/300\n",
            "240/240 [==============================] - 4s 17ms/step - loss: 1.0933e-07 - accuracy: 1.0000 - val_loss: 0.3681 - val_accuracy: 0.9764\n",
            "Epoch 165/300\n",
            "240/240 [==============================] - 4s 17ms/step - loss: 9.8632e-08 - accuracy: 1.0000 - val_loss: 0.3688 - val_accuracy: 0.9762\n",
            "Epoch 166/300\n",
            "240/240 [==============================] - 4s 17ms/step - loss: 8.9185e-08 - accuracy: 1.0000 - val_loss: 0.3694 - val_accuracy: 0.9762\n",
            "Epoch 167/300\n",
            "240/240 [==============================] - 4s 17ms/step - loss: 8.0565e-08 - accuracy: 1.0000 - val_loss: 0.3703 - val_accuracy: 0.9761\n",
            "Epoch 168/300\n",
            "240/240 [==============================] - 4s 17ms/step - loss: 7.2580e-08 - accuracy: 1.0000 - val_loss: 0.3711 - val_accuracy: 0.9762\n",
            "Epoch 169/300\n",
            "240/240 [==============================] - 4s 17ms/step - loss: 6.5490e-08 - accuracy: 1.0000 - val_loss: 0.3718 - val_accuracy: 0.9762\n",
            "Epoch 170/300\n",
            "240/240 [==============================] - 4s 17ms/step - loss: 5.9256e-08 - accuracy: 1.0000 - val_loss: 0.3725 - val_accuracy: 0.9763\n",
            "Epoch 171/300\n",
            "240/240 [==============================] - 4s 17ms/step - loss: 5.3246e-08 - accuracy: 1.0000 - val_loss: 0.3735 - val_accuracy: 0.9762\n",
            "Epoch 172/300\n",
            "240/240 [==============================] - 4s 17ms/step - loss: 4.7999e-08 - accuracy: 1.0000 - val_loss: 0.3743 - val_accuracy: 0.9764\n",
            "Epoch 173/300\n",
            "240/240 [==============================] - 4s 17ms/step - loss: 4.3375e-08 - accuracy: 1.0000 - val_loss: 0.3750 - val_accuracy: 0.9764\n",
            "Epoch 174/300\n",
            "240/240 [==============================] - 4s 17ms/step - loss: 3.9264e-08 - accuracy: 1.0000 - val_loss: 0.3757 - val_accuracy: 0.9764\n",
            "Epoch 175/300\n",
            "240/240 [==============================] - 4s 17ms/step - loss: 3.5393e-08 - accuracy: 1.0000 - val_loss: 0.3765 - val_accuracy: 0.9762\n",
            "Epoch 176/300\n",
            "240/240 [==============================] - 4s 17ms/step - loss: 3.1988e-08 - accuracy: 1.0000 - val_loss: 0.3773 - val_accuracy: 0.9762\n",
            "Epoch 177/300\n",
            "240/240 [==============================] - 4s 17ms/step - loss: 2.8824e-08 - accuracy: 1.0000 - val_loss: 0.3782 - val_accuracy: 0.9762\n",
            "Epoch 178/300\n",
            "240/240 [==============================] - 4s 17ms/step - loss: 2.6005e-08 - accuracy: 1.0000 - val_loss: 0.3790 - val_accuracy: 0.9762\n",
            "Epoch 179/300\n",
            "240/240 [==============================] - 4s 17ms/step - loss: 2.3571e-08 - accuracy: 1.0000 - val_loss: 0.3797 - val_accuracy: 0.9761\n",
            "Epoch 180/300\n",
            "240/240 [==============================] - 4s 17ms/step - loss: 2.1271e-08 - accuracy: 1.0000 - val_loss: 0.3804 - val_accuracy: 0.9762\n",
            "Epoch 181/300\n",
            "240/240 [==============================] - 4s 17ms/step - loss: 1.9126e-08 - accuracy: 1.0000 - val_loss: 0.3812 - val_accuracy: 0.9760\n",
            "Epoch 182/300\n",
            "240/240 [==============================] - 4s 17ms/step - loss: 1.7268e-08 - accuracy: 1.0000 - val_loss: 0.3821 - val_accuracy: 0.9759\n",
            "Epoch 183/300\n",
            "240/240 [==============================] - 4s 17ms/step - loss: 1.5567e-08 - accuracy: 1.0000 - val_loss: 0.3828 - val_accuracy: 0.9759\n",
            "Epoch 184/300\n",
            "240/240 [==============================] - 4s 17ms/step - loss: 1.3977e-08 - accuracy: 1.0000 - val_loss: 0.3836 - val_accuracy: 0.9760\n",
            "Epoch 185/300\n",
            "240/240 [==============================] - 4s 17ms/step - loss: 1.2606e-08 - accuracy: 1.0000 - val_loss: 0.3843 - val_accuracy: 0.9760\n",
            "Epoch 186/300\n",
            "240/240 [==============================] - 4s 17ms/step - loss: 1.1417e-08 - accuracy: 1.0000 - val_loss: 0.3850 - val_accuracy: 0.9761\n",
            "Epoch 187/300\n",
            "240/240 [==============================] - 4s 17ms/step - loss: 1.0297e-08 - accuracy: 1.0000 - val_loss: 0.3858 - val_accuracy: 0.9762\n",
            "Epoch 188/300\n",
            "240/240 [==============================] - 4s 17ms/step - loss: 9.2809e-09 - accuracy: 1.0000 - val_loss: 0.3866 - val_accuracy: 0.9762\n",
            "Epoch 189/300\n",
            "240/240 [==============================] - 4s 17ms/step - loss: 8.3918e-09 - accuracy: 1.0000 - val_loss: 0.3872 - val_accuracy: 0.9762\n",
            "Epoch 190/300\n",
            "240/240 [==============================] - 4s 17ms/step - loss: 7.5648e-09 - accuracy: 1.0000 - val_loss: 0.3878 - val_accuracy: 0.9762\n",
            "Epoch 191/300\n",
            "240/240 [==============================] - 4s 17ms/step - loss: 6.8570e-09 - accuracy: 1.0000 - val_loss: 0.3888 - val_accuracy: 0.9761\n",
            "Epoch 192/300\n",
            "240/240 [==============================] - 4s 17ms/step - loss: 6.1418e-09 - accuracy: 1.0000 - val_loss: 0.3895 - val_accuracy: 0.9761\n",
            "Epoch 193/300\n",
            "240/240 [==============================] - 4s 17ms/step - loss: 5.5606e-09 - accuracy: 1.0000 - val_loss: 0.3900 - val_accuracy: 0.9762\n",
            "Epoch 194/300\n",
            "240/240 [==============================] - 4s 17ms/step - loss: 5.0267e-09 - accuracy: 1.0000 - val_loss: 0.3905 - val_accuracy: 0.9762\n",
            "Epoch 195/300\n",
            "240/240 [==============================] - 4s 17ms/step - loss: 4.5374e-09 - accuracy: 1.0000 - val_loss: 0.3912 - val_accuracy: 0.9762\n",
            "Epoch 196/300\n",
            "240/240 [==============================] - 4s 18ms/step - loss: 4.1748e-09 - accuracy: 1.0000 - val_loss: 0.3918 - val_accuracy: 0.9763\n",
            "Epoch 197/300\n",
            "240/240 [==============================] - 4s 17ms/step - loss: 3.7650e-09 - accuracy: 1.0000 - val_loss: 0.3919 - val_accuracy: 0.9762\n",
            "Epoch 198/300\n",
            "240/240 [==============================] - 4s 17ms/step - loss: 3.4124e-09 - accuracy: 1.0000 - val_loss: 0.3925 - val_accuracy: 0.9763\n",
            "Epoch 199/300\n",
            "240/240 [==============================] - 4s 17ms/step - loss: 3.1094e-09 - accuracy: 1.0000 - val_loss: 0.3927 - val_accuracy: 0.9762\n",
            "Epoch 200/300\n",
            "240/240 [==============================] - 4s 17ms/step - loss: 2.8635e-09 - accuracy: 1.0000 - val_loss: 0.3930 - val_accuracy: 0.9762\n",
            "Epoch 201/300\n",
            "240/240 [==============================] - 4s 17ms/step - loss: 2.5208e-09 - accuracy: 1.0000 - val_loss: 0.3930 - val_accuracy: 0.9762\n",
            "Epoch 202/300\n",
            "240/240 [==============================] - 5s 22ms/step - loss: 2.4016e-09 - accuracy: 1.0000 - val_loss: 0.3930 - val_accuracy: 0.9762\n",
            "Epoch 203/300\n",
            "240/240 [==============================] - 4s 17ms/step - loss: 2.1805e-09 - accuracy: 1.0000 - val_loss: 0.3935 - val_accuracy: 0.9762\n",
            "Epoch 204/300\n",
            "240/240 [==============================] - 4s 17ms/step - loss: 2.0017e-09 - accuracy: 1.0000 - val_loss: 0.3932 - val_accuracy: 0.9762\n",
            "Epoch 205/300\n",
            "240/240 [==============================] - 4s 17ms/step - loss: 1.8428e-09 - accuracy: 1.0000 - val_loss: 0.3931 - val_accuracy: 0.9762\n",
            "Epoch 206/300\n",
            "240/240 [==============================] - 4s 17ms/step - loss: 1.6689e-09 - accuracy: 1.0000 - val_loss: 0.3930 - val_accuracy: 0.9762\n",
            "Epoch 207/300\n",
            "240/240 [==============================] - 4s 17ms/step - loss: 1.5845e-09 - accuracy: 1.0000 - val_loss: 0.3929 - val_accuracy: 0.9762\n",
            "Epoch 208/300\n",
            "240/240 [==============================] - 4s 17ms/step - loss: 1.4802e-09 - accuracy: 1.0000 - val_loss: 0.3926 - val_accuracy: 0.9762\n",
            "Epoch 209/300\n",
            "240/240 [==============================] - 4s 17ms/step - loss: 1.4057e-09 - accuracy: 1.0000 - val_loss: 0.3922 - val_accuracy: 0.9762\n",
            "Epoch 210/300\n",
            "240/240 [==============================] - 4s 17ms/step - loss: 1.3163e-09 - accuracy: 1.0000 - val_loss: 0.3918 - val_accuracy: 0.9763\n",
            "Epoch 211/300\n",
            "240/240 [==============================] - 4s 17ms/step - loss: 1.2890e-09 - accuracy: 1.0000 - val_loss: 0.3912 - val_accuracy: 0.9764\n",
            "Epoch 212/300\n",
            "240/240 [==============================] - 4s 17ms/step - loss: 1.2194e-09 - accuracy: 1.0000 - val_loss: 0.3910 - val_accuracy: 0.9762\n",
            "Epoch 213/300\n",
            "240/240 [==============================] - 4s 17ms/step - loss: 1.1573e-09 - accuracy: 1.0000 - val_loss: 0.3901 - val_accuracy: 0.9762\n",
            "Epoch 214/300\n",
            "240/240 [==============================] - 4s 17ms/step - loss: 1.0952e-09 - accuracy: 1.0000 - val_loss: 0.3894 - val_accuracy: 0.9762\n",
            "Epoch 215/300\n",
            "240/240 [==============================] - 4s 17ms/step - loss: 1.0878e-09 - accuracy: 1.0000 - val_loss: 0.3893 - val_accuracy: 0.9763\n",
            "Epoch 216/300\n",
            "240/240 [==============================] - 4s 17ms/step - loss: 1.0356e-09 - accuracy: 1.0000 - val_loss: 0.3886 - val_accuracy: 0.9762\n",
            "Epoch 217/300\n",
            "240/240 [==============================] - 4s 17ms/step - loss: 1.0282e-09 - accuracy: 1.0000 - val_loss: 0.3883 - val_accuracy: 0.9762\n",
            "Epoch 218/300\n",
            "240/240 [==============================] - 4s 17ms/step - loss: 9.7106e-10 - accuracy: 1.0000 - val_loss: 0.3873 - val_accuracy: 0.9760\n",
            "Epoch 219/300\n",
            "240/240 [==============================] - 4s 17ms/step - loss: 9.5367e-10 - accuracy: 1.0000 - val_loss: 0.3870 - val_accuracy: 0.9761\n",
            "Epoch 220/300\n",
            "240/240 [==============================] - 4s 17ms/step - loss: 9.2636e-10 - accuracy: 1.0000 - val_loss: 0.3865 - val_accuracy: 0.9761\n",
            "Epoch 221/300\n",
            "240/240 [==============================] - 4s 17ms/step - loss: 9.0400e-10 - accuracy: 1.0000 - val_loss: 0.3858 - val_accuracy: 0.9760\n",
            "Epoch 222/300\n",
            "240/240 [==============================] - 4s 17ms/step - loss: 8.4440e-10 - accuracy: 1.0000 - val_loss: 0.3855 - val_accuracy: 0.9760\n",
            "Epoch 223/300\n",
            "240/240 [==============================] - 4s 17ms/step - loss: 8.7669e-10 - accuracy: 1.0000 - val_loss: 0.3847 - val_accuracy: 0.9761\n",
            "Epoch 224/300\n",
            "240/240 [==============================] - 4s 17ms/step - loss: 8.8165e-10 - accuracy: 1.0000 - val_loss: 0.3844 - val_accuracy: 0.9761\n",
            "Epoch 225/300\n",
            "240/240 [==============================] - 4s 17ms/step - loss: 8.1708e-10 - accuracy: 1.0000 - val_loss: 0.3833 - val_accuracy: 0.9761\n",
            "Epoch 226/300\n",
            "240/240 [==============================] - 4s 17ms/step - loss: 8.1708e-10 - accuracy: 1.0000 - val_loss: 0.3830 - val_accuracy: 0.9760\n",
            "Epoch 227/300\n",
            "240/240 [==============================] - 4s 17ms/step - loss: 8.1956e-10 - accuracy: 1.0000 - val_loss: 0.3822 - val_accuracy: 0.9762\n",
            "Epoch 228/300\n",
            "240/240 [==============================] - 4s 17ms/step - loss: 7.7238e-10 - accuracy: 1.0000 - val_loss: 0.3813 - val_accuracy: 0.9762\n",
            "Epoch 229/300\n",
            "240/240 [==============================] - 4s 17ms/step - loss: 8.0715e-10 - accuracy: 1.0000 - val_loss: 0.3808 - val_accuracy: 0.9761\n",
            "Epoch 230/300\n",
            "240/240 [==============================] - 4s 17ms/step - loss: 7.5996e-10 - accuracy: 1.0000 - val_loss: 0.3807 - val_accuracy: 0.9760\n",
            "Epoch 231/300\n",
            "240/240 [==============================] - 4s 17ms/step - loss: 7.6493e-10 - accuracy: 1.0000 - val_loss: 0.3799 - val_accuracy: 0.9762\n",
            "Epoch 232/300\n",
            "240/240 [==============================] - 4s 18ms/step - loss: 7.3264e-10 - accuracy: 1.0000 - val_loss: 0.3795 - val_accuracy: 0.9759\n",
            "Epoch 233/300\n",
            "240/240 [==============================] - 4s 18ms/step - loss: 7.4009e-10 - accuracy: 1.0000 - val_loss: 0.3790 - val_accuracy: 0.9759\n",
            "Epoch 234/300\n",
            "240/240 [==============================] - 4s 18ms/step - loss: 7.4009e-10 - accuracy: 1.0000 - val_loss: 0.3785 - val_accuracy: 0.9761\n",
            "Epoch 235/300\n",
            "240/240 [==============================] - 4s 18ms/step - loss: 7.1029e-10 - accuracy: 1.0000 - val_loss: 0.3785 - val_accuracy: 0.9760\n",
            "Epoch 236/300\n",
            "240/240 [==============================] - 4s 18ms/step - loss: 6.9539e-10 - accuracy: 1.0000 - val_loss: 0.3779 - val_accuracy: 0.9760\n",
            "Epoch 237/300\n",
            "240/240 [==============================] - 4s 17ms/step - loss: 7.1526e-10 - accuracy: 1.0000 - val_loss: 0.3775 - val_accuracy: 0.9758\n",
            "Epoch 238/300\n",
            "240/240 [==============================] - 4s 17ms/step - loss: 6.9539e-10 - accuracy: 1.0000 - val_loss: 0.3773 - val_accuracy: 0.9759\n",
            "Epoch 239/300\n",
            "240/240 [==============================] - 4s 17ms/step - loss: 6.6559e-10 - accuracy: 1.0000 - val_loss: 0.3766 - val_accuracy: 0.9758\n",
            "Epoch 240/300\n",
            "240/240 [==============================] - 4s 17ms/step - loss: 6.7552e-10 - accuracy: 1.0000 - val_loss: 0.3762 - val_accuracy: 0.9759\n",
            "Epoch 241/300\n",
            "240/240 [==============================] - 4s 17ms/step - loss: 7.3016e-10 - accuracy: 1.0000 - val_loss: 0.3762 - val_accuracy: 0.9759\n",
            "Epoch 242/300\n",
            "240/240 [==============================] - 4s 17ms/step - loss: 6.6310e-10 - accuracy: 1.0000 - val_loss: 0.3755 - val_accuracy: 0.9758\n",
            "Epoch 243/300\n",
            "240/240 [==============================] - 4s 18ms/step - loss: 6.8049e-10 - accuracy: 1.0000 - val_loss: 0.3751 - val_accuracy: 0.9758\n",
            "Epoch 244/300\n",
            "240/240 [==============================] - 4s 17ms/step - loss: 6.6807e-10 - accuracy: 1.0000 - val_loss: 0.3748 - val_accuracy: 0.9758\n",
            "Epoch 245/300\n",
            "240/240 [==============================] - 4s 17ms/step - loss: 6.7800e-10 - accuracy: 1.0000 - val_loss: 0.3748 - val_accuracy: 0.9758\n",
            "Epoch 246/300\n",
            "240/240 [==============================] - 4s 17ms/step - loss: 6.5317e-10 - accuracy: 1.0000 - val_loss: 0.3743 - val_accuracy: 0.9758\n",
            "Epoch 247/300\n",
            "240/240 [==============================] - 4s 17ms/step - loss: 6.3827e-10 - accuracy: 1.0000 - val_loss: 0.3739 - val_accuracy: 0.9759\n",
            "Epoch 248/300\n",
            "240/240 [==============================] - 4s 17ms/step - loss: 6.5813e-10 - accuracy: 1.0000 - val_loss: 0.3737 - val_accuracy: 0.9758\n",
            "Epoch 249/300\n",
            "240/240 [==============================] - 4s 17ms/step - loss: 6.8545e-10 - accuracy: 1.0000 - val_loss: 0.3734 - val_accuracy: 0.9758\n",
            "Epoch 250/300\n",
            "240/240 [==============================] - 4s 17ms/step - loss: 6.3330e-10 - accuracy: 1.0000 - val_loss: 0.3737 - val_accuracy: 0.9759\n",
            "Epoch 251/300\n",
            "240/240 [==============================] - 4s 17ms/step - loss: 6.4820e-10 - accuracy: 1.0000 - val_loss: 0.3726 - val_accuracy: 0.9759\n",
            "Epoch 252/300\n",
            "240/240 [==============================] - 4s 17ms/step - loss: 6.2585e-10 - accuracy: 1.0000 - val_loss: 0.3727 - val_accuracy: 0.9759\n",
            "Epoch 253/300\n",
            "240/240 [==============================] - 4s 18ms/step - loss: 6.3082e-10 - accuracy: 1.0000 - val_loss: 0.3722 - val_accuracy: 0.9758\n",
            "Epoch 254/300\n",
            "240/240 [==============================] - 4s 18ms/step - loss: 6.4323e-10 - accuracy: 1.0000 - val_loss: 0.3725 - val_accuracy: 0.9761\n",
            "Epoch 255/300\n",
            "240/240 [==============================] - 4s 18ms/step - loss: 6.2833e-10 - accuracy: 1.0000 - val_loss: 0.3721 - val_accuracy: 0.9759\n",
            "Epoch 256/300\n",
            "240/240 [==============================] - 4s 18ms/step - loss: 6.5068e-10 - accuracy: 1.0000 - val_loss: 0.3722 - val_accuracy: 0.9760\n",
            "Epoch 257/300\n",
            "240/240 [==============================] - 4s 18ms/step - loss: 6.1591e-10 - accuracy: 1.0000 - val_loss: 0.3721 - val_accuracy: 0.9759\n",
            "Epoch 258/300\n",
            "240/240 [==============================] - 4s 18ms/step - loss: 6.2337e-10 - accuracy: 1.0000 - val_loss: 0.3714 - val_accuracy: 0.9758\n",
            "Epoch 259/300\n",
            "240/240 [==============================] - 4s 18ms/step - loss: 6.1840e-10 - accuracy: 1.0000 - val_loss: 0.3718 - val_accuracy: 0.9759\n",
            "Epoch 260/300\n",
            "240/240 [==============================] - 4s 18ms/step - loss: 5.9605e-10 - accuracy: 1.0000 - val_loss: 0.3706 - val_accuracy: 0.9759\n",
            "Epoch 261/300\n",
            "240/240 [==============================] - 4s 18ms/step - loss: 6.4075e-10 - accuracy: 1.0000 - val_loss: 0.3710 - val_accuracy: 0.9758\n",
            "Epoch 262/300\n",
            "240/240 [==============================] - 4s 17ms/step - loss: 5.7369e-10 - accuracy: 1.0000 - val_loss: 0.3701 - val_accuracy: 0.9758\n",
            "Epoch 263/300\n",
            "240/240 [==============================] - 4s 18ms/step - loss: 6.0350e-10 - accuracy: 1.0000 - val_loss: 0.3696 - val_accuracy: 0.9759\n",
            "Epoch 264/300\n",
            "240/240 [==============================] - 4s 18ms/step - loss: 6.2088e-10 - accuracy: 1.0000 - val_loss: 0.3696 - val_accuracy: 0.9759\n",
            "Epoch 265/300\n",
            "240/240 [==============================] - 4s 18ms/step - loss: 6.0846e-10 - accuracy: 1.0000 - val_loss: 0.3692 - val_accuracy: 0.9760\n",
            "Epoch 266/300\n",
            "240/240 [==============================] - 4s 18ms/step - loss: 6.0101e-10 - accuracy: 1.0000 - val_loss: 0.3691 - val_accuracy: 0.9759\n",
            "Epoch 267/300\n",
            "240/240 [==============================] - 4s 18ms/step - loss: 5.8363e-10 - accuracy: 1.0000 - val_loss: 0.3694 - val_accuracy: 0.9760\n",
            "Epoch 268/300\n",
            "240/240 [==============================] - 4s 18ms/step - loss: 5.7866e-10 - accuracy: 1.0000 - val_loss: 0.3688 - val_accuracy: 0.9760\n",
            "Epoch 269/300\n",
            "240/240 [==============================] - 4s 17ms/step - loss: 5.8115e-10 - accuracy: 1.0000 - val_loss: 0.3687 - val_accuracy: 0.9758\n",
            "Epoch 270/300\n",
            "240/240 [==============================] - 4s 18ms/step - loss: 5.7121e-10 - accuracy: 1.0000 - val_loss: 0.3687 - val_accuracy: 0.9758\n",
            "Epoch 271/300\n",
            "240/240 [==============================] - 4s 18ms/step - loss: 5.9356e-10 - accuracy: 1.0000 - val_loss: 0.3685 - val_accuracy: 0.9758\n",
            "Epoch 272/300\n",
            "240/240 [==============================] - 4s 18ms/step - loss: 6.0598e-10 - accuracy: 1.0000 - val_loss: 0.3687 - val_accuracy: 0.9755\n",
            "Epoch 273/300\n",
            "240/240 [==============================] - 4s 18ms/step - loss: 5.3147e-10 - accuracy: 1.0000 - val_loss: 0.3677 - val_accuracy: 0.9757\n",
            "Epoch 274/300\n",
            "240/240 [==============================] - 6s 23ms/step - loss: 5.8611e-10 - accuracy: 1.0000 - val_loss: 0.3678 - val_accuracy: 0.9758\n",
            "Epoch 275/300\n",
            "240/240 [==============================] - 4s 18ms/step - loss: 6.0101e-10 - accuracy: 1.0000 - val_loss: 0.3678 - val_accuracy: 0.9757\n",
            "Epoch 276/300\n",
            "240/240 [==============================] - 4s 18ms/step - loss: 5.6128e-10 - accuracy: 1.0000 - val_loss: 0.3674 - val_accuracy: 0.9756\n",
            "Epoch 277/300\n",
            "240/240 [==============================] - 4s 18ms/step - loss: 5.5631e-10 - accuracy: 1.0000 - val_loss: 0.3680 - val_accuracy: 0.9754\n",
            "Epoch 278/300\n",
            "240/240 [==============================] - 4s 18ms/step - loss: 5.7369e-10 - accuracy: 1.0000 - val_loss: 0.3673 - val_accuracy: 0.9754\n",
            "Epoch 279/300\n",
            "240/240 [==============================] - 4s 18ms/step - loss: 5.8363e-10 - accuracy: 1.0000 - val_loss: 0.3675 - val_accuracy: 0.9753\n",
            "Epoch 280/300\n",
            "240/240 [==============================] - 4s 18ms/step - loss: 5.7866e-10 - accuracy: 1.0000 - val_loss: 0.3670 - val_accuracy: 0.9754\n",
            "Epoch 281/300\n",
            "240/240 [==============================] - 4s 18ms/step - loss: 5.7618e-10 - accuracy: 1.0000 - val_loss: 0.3673 - val_accuracy: 0.9753\n",
            "Epoch 282/300\n",
            "240/240 [==============================] - 4s 18ms/step - loss: 5.8611e-10 - accuracy: 1.0000 - val_loss: 0.3671 - val_accuracy: 0.9754\n",
            "Epoch 283/300\n",
            "240/240 [==============================] - 4s 18ms/step - loss: 5.7618e-10 - accuracy: 1.0000 - val_loss: 0.3672 - val_accuracy: 0.9754\n",
            "Epoch 284/300\n",
            "240/240 [==============================] - 4s 18ms/step - loss: 5.5879e-10 - accuracy: 1.0000 - val_loss: 0.3670 - val_accuracy: 0.9755\n",
            "Epoch 285/300\n",
            "240/240 [==============================] - 4s 18ms/step - loss: 5.9605e-10 - accuracy: 1.0000 - val_loss: 0.3672 - val_accuracy: 0.9754\n",
            "Epoch 286/300\n",
            "240/240 [==============================] - 4s 18ms/step - loss: 5.3644e-10 - accuracy: 1.0000 - val_loss: 0.3670 - val_accuracy: 0.9754\n",
            "Epoch 287/300\n",
            "240/240 [==============================] - 4s 18ms/step - loss: 5.7866e-10 - accuracy: 1.0000 - val_loss: 0.3677 - val_accuracy: 0.9755\n",
            "Epoch 288/300\n",
            "240/240 [==============================] - 4s 18ms/step - loss: 5.4141e-10 - accuracy: 1.0000 - val_loss: 0.3673 - val_accuracy: 0.9756\n",
            "Epoch 289/300\n",
            "240/240 [==============================] - 4s 18ms/step - loss: 5.8611e-10 - accuracy: 1.0000 - val_loss: 0.3676 - val_accuracy: 0.9754\n",
            "Epoch 290/300\n",
            "240/240 [==============================] - 4s 18ms/step - loss: 5.3893e-10 - accuracy: 1.0000 - val_loss: 0.3679 - val_accuracy: 0.9754\n",
            "Epoch 291/300\n",
            "240/240 [==============================] - 4s 18ms/step - loss: 5.7121e-10 - accuracy: 1.0000 - val_loss: 0.3682 - val_accuracy: 0.9756\n",
            "Epoch 292/300\n",
            "240/240 [==============================] - 4s 18ms/step - loss: 5.2651e-10 - accuracy: 1.0000 - val_loss: 0.3681 - val_accuracy: 0.9755\n",
            "Epoch 293/300\n",
            "240/240 [==============================] - 4s 18ms/step - loss: 5.7866e-10 - accuracy: 1.0000 - val_loss: 0.3683 - val_accuracy: 0.9755\n",
            "Epoch 294/300\n",
            "240/240 [==============================] - 4s 18ms/step - loss: 5.1657e-10 - accuracy: 1.0000 - val_loss: 0.3683 - val_accuracy: 0.9755\n",
            "Epoch 295/300\n",
            "240/240 [==============================] - 4s 18ms/step - loss: 5.6873e-10 - accuracy: 1.0000 - val_loss: 0.3679 - val_accuracy: 0.9754\n",
            "Epoch 296/300\n",
            "240/240 [==============================] - 4s 18ms/step - loss: 5.5134e-10 - accuracy: 1.0000 - val_loss: 0.3683 - val_accuracy: 0.9754\n",
            "Epoch 297/300\n",
            "240/240 [==============================] - 4s 18ms/step - loss: 5.5879e-10 - accuracy: 1.0000 - val_loss: 0.3686 - val_accuracy: 0.9755\n",
            "Epoch 298/300\n",
            "240/240 [==============================] - 4s 18ms/step - loss: 5.4141e-10 - accuracy: 1.0000 - val_loss: 0.3687 - val_accuracy: 0.9753\n",
            "Epoch 299/300\n",
            "240/240 [==============================] - 4s 18ms/step - loss: 5.3147e-10 - accuracy: 1.0000 - val_loss: 0.3693 - val_accuracy: 0.9753\n",
            "Epoch 300/300\n",
            "240/240 [==============================] - 4s 18ms/step - loss: 5.3644e-10 - accuracy: 1.0000 - val_loss: 0.3695 - val_accuracy: 0.9752\n"
          ],
          "name": "stdout"
        }
      ]
    },
    {
      "cell_type": "code",
      "metadata": {
        "colab": {
          "base_uri": "https://localhost:8080/"
        },
        "id": "jlzUk0_08WUs",
        "outputId": "0d9eeba5-7918-4f4f-9ab4-d902ade8e644"
      },
      "source": [
        "model.evaluate(x_test_flatten, y_test)"
      ],
      "execution_count": null,
      "outputs": [
        {
          "output_type": "stream",
          "text": [
            "313/313 [==============================] - 1s 2ms/step - loss: 0.1764 - accuracy: 0.9759\n"
          ],
          "name": "stdout"
        },
        {
          "output_type": "execute_result",
          "data": {
            "text/plain": [
              "[0.17640407383441925, 0.9758999943733215]"
            ]
          },
          "metadata": {
            "tags": []
          },
          "execution_count": 90
        }
      ]
    },
    {
      "cell_type": "code",
      "metadata": {
        "colab": {
          "base_uri": "https://localhost:8080/",
          "height": 295
        },
        "id": "4ILPiRdnBUKE",
        "outputId": "3cb4605a-3b7e-4324-d128-91ef1e422d1d"
      },
      "source": [
        "plt.plot(history.history['accuracy'])\n",
        "plt.plot(history.history['val_accuracy'])\n",
        "plt.title('Model Accuracy')\n",
        "plt.ylabel('accuracy')\n",
        "plt.xlabel('epoch')\n",
        "plt.legend(['Train', 'Validation'])\n",
        "plt.show()"
      ],
      "execution_count": null,
      "outputs": [
        {
          "output_type": "display_data",
          "data": {
            "image/png": "[encoded data removed]",
            "text/plain": [
              "<Figure size 432x288 with 1 Axes>"
            ]
          },
          "metadata": {
            "tags": []
          }
        }
      ]
    },
    {
      "cell_type": "code",
      "metadata": {
        "id": "QXQC8yauBUGz"
      },
      "source": [
        "y_predicted = model.predict(x_test_flatten)"
      ],
      "execution_count": null,
      "outputs": []
    },
    {
      "cell_type": "code",
      "metadata": {
        "colab": {
          "base_uri": "https://localhost:8080/"
        },
        "id": "_kl_8oV9BkZC",
        "outputId": "bc159553-e3dc-4ba2-f9d4-402c9c8d3d91"
      },
      "source": [
        "y_predicted[0]"
      ],
      "execution_count": null,
      "outputs": [
        {
          "output_type": "execute_result",
          "data": {
            "text/plain": [
              "array([0.0000000e+00, 1.6052579e-25, 0.0000000e+00, 4.0896324e-37,\n",
              "       0.0000000e+00, 0.0000000e+00, 0.0000000e+00, 1.0000000e+00,\n",
              "       0.0000000e+00, 0.0000000e+00], dtype=float32)"
            ]
          },
          "metadata": {
            "tags": []
          },
          "execution_count": 52
        }
      ]
    },
    {
      "cell_type": "code",
      "metadata": {
        "colab": {
          "base_uri": "https://localhost:8080/",
          "height": 293
        },
        "id": "WW9DiTQxBpJK",
        "outputId": "c23a6667-4a9c-42d7-9135-589534c477b3"
      },
      "source": [
        "plt.matshow(x_test[0])"
      ],
      "execution_count": null,
      "outputs": [
        {
          "output_type": "execute_result",
          "data": {
            "text/plain": [
              "<matplotlib.image.AxesImage at 0x7faf8f906710>"
            ]
          },
          "metadata": {
            "tags": []
          },
          "execution_count": 54
        },
        {
          "output_type": "display_data",
          "data": {
            "image/png": "[encoded data removed]",
            "text/plain": [
              "<Figure size 288x288 with 1 Axes>"
            ]
          },
          "metadata": {
            "tags": []
          }
        }
      ]
    },
    {
      "cell_type": "code",
      "metadata": {
        "colab": {
          "base_uri": "https://localhost:8080/"
        },
        "id": "9kntb1fkBzs8",
        "outputId": "c15eb2ee-b377-4acb-a07f-74f2997af44a"
      },
      "source": [
        "y_test[0]"
      ],
      "execution_count": null,
      "outputs": [
        {
          "output_type": "execute_result",
          "data": {
            "text/plain": [
              "7"
            ]
          },
          "metadata": {
            "tags": []
          },
          "execution_count": 55
        }
      ]
    },
    {
      "cell_type": "code",
      "metadata": {
        "colab": {
          "base_uri": "https://localhost:8080/"
        },
        "id": "PHnxWkGaB2Rc",
        "outputId": "9239f5f6-1b6c-40f5-97fd-1b8526263ee5"
      },
      "source": [
        "np.argmax(y_predicted[0])"
      ],
      "execution_count": null,
      "outputs": [
        {
          "output_type": "execute_result",
          "data": {
            "text/plain": [
              "7"
            ]
          },
          "metadata": {
            "tags": []
          },
          "execution_count": 57
        }
      ]
    },
    {
      "cell_type": "code",
      "metadata": {
        "id": "PRUsyfNMCUzI"
      },
      "source": [
        "y_predicted_label = [np.argmax(i) for i in y_predicted]"
      ],
      "execution_count": null,
      "outputs": []
    },
    {
      "cell_type": "code",
      "metadata": {
        "colab": {
          "base_uri": "https://localhost:8080/"
        },
        "id": "Kf_QRE5-CazH",
        "outputId": "ab26d8f9-1dcb-4c8f-b631-b26c35dbefae"
      },
      "source": [
        "y_predicted_label[:20]"
      ],
      "execution_count": null,
      "outputs": [
        {
          "output_type": "execute_result",
          "data": {
            "text/plain": [
              "[7, 2, 1, 0, 4, 1, 4, 9, 5, 9, 0, 0, 9, 0, 1, 5, 9, 7, 3, 4]"
            ]
          },
          "metadata": {
            "tags": []
          },
          "execution_count": 60
        }
      ]
    },
    {
      "cell_type": "code",
      "metadata": {
        "colab": {
          "base_uri": "https://localhost:8080/"
        },
        "id": "JDsFmfiVCfG-",
        "outputId": "3be3c028-3238-4836-b8b6-8b5799fa0c72"
      },
      "source": [
        "cm = tf.math.confusion_matrix(labels=y_test, predictions=y_predicted_label)\n",
        "cm"
      ],
      "execution_count": null,
      "outputs": [
        {
          "output_type": "execute_result",
          "data": {
            "text/plain": [
              "<tf.Tensor: shape=(10, 10), dtype=int32, numpy=\n",
              "array([[ 974,    0,    1,    1,    0,    1,    1,    0,    2,    0],\n",
              "       [   0, 1129,    3,    1,    0,    0,    1,    0,    1,    0],\n",
              "       [   4,    0, 1016,    0,    0,    0,    1,    4,    5,    2],\n",
              "       [   1,    1,    1,  993,    0,    5,    0,    2,    7,    0],\n",
              "       [   3,    1,    6,    0,  964,    1,    2,    0,    1,    4],\n",
              "       [  70,    0,    0,    9,    0,  807,    3,    0,    3,    0],\n",
              "       [ 877,    2,    2,    1,    3,   22,   50,    0,    1,    0],\n",
              "       [   1,    1,    5,    4,    0,    0,    0, 1011,    4,    2],\n",
              "       [   1,    1,    2,    3,    1,    4,    2,    4,  951,    5],\n",
              "       [   0,    3,    0,    7,   11,    2,    0,    9,    4,  973]],\n",
              "      dtype=int32)>"
            ]
          },
          "metadata": {
            "tags": []
          },
          "execution_count": 61
        }
      ]
    },
    {
      "cell_type": "code",
      "metadata": {
        "colab": {
          "base_uri": "https://localhost:8080/",
          "height": 460
        },
        "id": "H9FSoiCuC7z0",
        "outputId": "3d62b41d-fe52-4a99-b39c-575e6364e8f3"
      },
      "source": [
        "import seaborn as sn\n",
        "plt.figure(figsize=(10, 7))\n",
        "sn.heatmap(cm, annot=True, fmt='d')\n",
        "plt.xlabel('Predicted')\n",
        "plt.ylabel('Truth')"
      ],
      "execution_count": null,
      "outputs": [
        {
          "output_type": "execute_result",
          "data": {
            "text/plain": [
              "Text(69.0, 0.5, 'Truth')"
            ]
          },
          "metadata": {
            "tags": []
          },
          "execution_count": 62
        },
        {
          "output_type": "display_data",
          "data": {
            "image/png": "[encoded data removed]",
            "text/plain": [
              "<Figure size 720x504 with 2 Axes>"
            ]
          },
          "metadata": {
            "tags": []
          }
        }
      ]
    }
  ]
}